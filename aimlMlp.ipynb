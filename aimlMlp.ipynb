{
  "nbformat": 4,
  "nbformat_minor": 0,
  "metadata": {
    "colab": {
      "provenance": [],
      "include_colab_link": true
    },
    "kernelspec": {
      "name": "python3",
      "display_name": "Python 3"
    },
    "language_info": {
      "name": "python"
    }
  },
  "cells": [
    {
      "cell_type": "markdown",
      "metadata": {
        "id": "view-in-github",
        "colab_type": "text"
      },
      "source": [
        "<a href=\"https://colab.research.google.com/github/IT24102088/Plant-Disease-Detection-System-final-PG-NO-147/blob/main/aimlMlp.ipynb\" target=\"_parent\"><img src=\"https://colab.research.google.com/assets/colab-badge.svg\" alt=\"Open In Colab\"/></a>"
      ]
    },
    {
      "cell_type": "code",
      "execution_count": null,
      "metadata": {
        "colab": {
          "base_uri": "https://localhost:8080/"
        },
        "id": "RL0NTUAgvObk",
        "outputId": "2ed05d62-043c-4dd7-c8f9-8a825864e023"
      },
      "outputs": [
        {
          "output_type": "stream",
          "name": "stdout",
          "text": [
            "Mounted at /content/drive\n"
          ]
        }
      ],
      "source": [
        "# Mount Google Drive\n",
        "from google.colab import drive\n",
        "drive.mount('/content/drive')"
      ]
    },
    {
      "cell_type": "code",
      "source": [
        "# Install Kaggle & Download Dataset\n",
        "from IPython.display import clear_output\n",
        "!pip install kaggle\n",
        "import os\n",
        "\n",
        "# Set Kaggle API credentials\n",
        "os.environ['KAGGLE_USERNAME'] = 'supuntheekshanam'\n",
        "os.environ['KAGGLE_KEY'] = '97fb6c99381c9d6779d3f904ef279dce'\n",
        "\n",
        "clear_output()\n",
        "print(\"Drive mounted and Kaggle ready.\")"
      ],
      "metadata": {
        "colab": {
          "base_uri": "https://localhost:8080/"
        },
        "id": "fON1AR4yvlmu",
        "outputId": "83182795-ebba-4d88-cdbf-8a2e3efb3743"
      },
      "execution_count": null,
      "outputs": [
        {
          "output_type": "stream",
          "name": "stdout",
          "text": [
            "Drive mounted and Kaggle ready.\n"
          ]
        }
      ]
    },
    {
      "cell_type": "code",
      "source": [
        "# Download dataset\n",
        "!kaggle datasets download -d \"vipoooool/new-plant-diseases-dataset\" -p /content/drive/MyDrive/datasets/"
      ],
      "metadata": {
        "colab": {
          "base_uri": "https://localhost:8080/"
        },
        "id": "s2AuzdxMvyRY",
        "outputId": "4441f5cb-4c3a-4465-8c4c-1f5b1c0d93d0"
      },
      "execution_count": null,
      "outputs": [
        {
          "output_type": "stream",
          "name": "stdout",
          "text": [
            "Dataset URL: https://www.kaggle.com/datasets/vipoooool/new-plant-diseases-dataset\n",
            "License(s): copyright-authors\n",
            "Downloading new-plant-diseases-dataset.zip to /content/drive/MyDrive/datasets\n",
            " 99% 2.68G/2.70G [00:28<00:00, 124MB/s]\n",
            "100% 2.70G/2.70G [00:28<00:00, 101MB/s]\n"
          ]
        }
      ]
    },
    {
      "cell_type": "code",
      "source": [
        "# Unzip dataset\n",
        "!unzip /content/drive/MyDrive/datasets/new-plant-diseases-dataset.zip\n",
        "clear_output()"
      ],
      "metadata": {
        "id": "yLnBY5VhwLvM"
      },
      "execution_count": null,
      "outputs": []
    },
    {
      "cell_type": "code",
      "source": [
        "import tensorflow as tf\n",
        "import os\n",
        "\n",
        "# Folder locations inside '/content' after unzip the dataset\n",
        "train_dir = '/content/New Plant Diseases Dataset(Augmented)/New Plant Diseases Dataset(Augmented)/train'\n",
        "\n",
        "# Filter out \"healthy\" classes if needed\n",
        "class_names = [d for d in os.listdir(train_dir)\n",
        "               if os.path.isdir(os.path.join(train_dir, d)) and 'healthy' not in d.lower()]\n",
        "\n",
        "# Training dataset\n",
        "training_set = tf.keras.utils.image_dataset_from_directory(\n",
        "    train_dir,\n",
        "    labels=\"inferred\",\n",
        "    label_mode=\"categorical\",   # one-hot encoding\n",
        "    class_names=class_names,\n",
        "    color_mode='grayscale',     # use black-and-white images for MLP\n",
        "    batch_size=32,\n",
        "    image_size=(80, 80),   # resize all images to 80x80\n",
        "    shuffle=True\n",
        ")\n",
        "\n",
        "\n",
        "print(\"Training folder:\", train_dir)\n",
        "print(\"Classes used for training:,\", class_names)\n",
        "\n",
        "\n"
      ],
      "metadata": {
        "colab": {
          "base_uri": "https://localhost:8080/"
        },
        "id": "IALbGf42wNx6",
        "outputId": "60904170-7db0-4c9a-f03a-9134494d87a6"
      },
      "execution_count": null,
      "outputs": [
        {
          "output_type": "stream",
          "name": "stdout",
          "text": [
            "Found 48001 files belonging to 26 classes.\n",
            "Training folder: /content/New Plant Diseases Dataset(Augmented)/New Plant Diseases Dataset(Augmented)/train\n",
            "Classes used for training:, ['Squash___Powdery_mildew', 'Tomato___Spider_mites Two-spotted_spider_mite', 'Corn_(maize)___Northern_Leaf_Blight', 'Grape___Black_rot', 'Tomato___Late_blight', 'Grape___Esca_(Black_Measles)', 'Tomato___Early_blight', 'Strawberry___Leaf_scorch', 'Tomato___Leaf_Mold', 'Apple___Apple_scab', 'Apple___Cedar_apple_rust', 'Apple___Black_rot', 'Tomato___Tomato_mosaic_virus', 'Tomato___Target_Spot', 'Grape___Leaf_blight_(Isariopsis_Leaf_Spot)', 'Cherry_(including_sour)___Powdery_mildew', 'Peach___Bacterial_spot', 'Corn_(maize)___Cercospora_leaf_spot Gray_leaf_spot', 'Potato___Late_blight', 'Corn_(maize)___Common_rust_', 'Tomato___Septoria_leaf_spot', 'Potato___Early_blight', 'Tomato___Bacterial_spot', 'Pepper,_bell___Bacterial_spot', 'Tomato___Tomato_Yellow_Leaf_Curl_Virus', 'Orange___Haunglongbing_(Citrus_greening)']\n"
          ]
        }
      ]
    },
    {
      "cell_type": "code",
      "source": [
        "valid_dir = '/content/New Plant Diseases Dataset(Augmented)/New Plant Diseases Dataset(Augmented)/valid'\n",
        "\n",
        "class_names = [d for d in os.listdir(valid_dir)\n",
        "               if os.path.isdir(os.path.join(valid_dir, d)) and 'healthy' not in d.lower()]\n",
        "\n",
        "# Validation dataset\n",
        "validation_set = tf.keras.utils.image_dataset_from_directory(\n",
        "    valid_dir,\n",
        "    labels=\"inferred\",\n",
        "    label_mode=\"categorical\",\n",
        "    class_names=class_names,\n",
        "    color_mode='grayscale',\n",
        "    batch_size=32,\n",
        "    image_size=(80,80),\n",
        "    shuffle=True\n",
        ")\n",
        "\n",
        "print(\"Validation folder:\", valid_dir)\n",
        "print(\"Classes used for Validation:,\", class_names)\n"
      ],
      "metadata": {
        "colab": {
          "base_uri": "https://localhost:8080/"
        },
        "id": "gBwslxK6xDSZ",
        "outputId": "f0321dc9-979f-4fe5-87c6-9d2b36ccb12c"
      },
      "execution_count": null,
      "outputs": [
        {
          "output_type": "stream",
          "name": "stdout",
          "text": [
            "Found 12000 files belonging to 26 classes.\n",
            "Validation folder: /content/New Plant Diseases Dataset(Augmented)/New Plant Diseases Dataset(Augmented)/valid\n",
            "Classes used for Validation:, ['Squash___Powdery_mildew', 'Tomato___Spider_mites Two-spotted_spider_mite', 'Corn_(maize)___Northern_Leaf_Blight', 'Grape___Black_rot', 'Tomato___Late_blight', 'Grape___Esca_(Black_Measles)', 'Tomato___Early_blight', 'Strawberry___Leaf_scorch', 'Tomato___Leaf_Mold', 'Apple___Apple_scab', 'Apple___Cedar_apple_rust', 'Apple___Black_rot', 'Tomato___Tomato_mosaic_virus', 'Tomato___Target_Spot', 'Grape___Leaf_blight_(Isariopsis_Leaf_Spot)', 'Cherry_(including_sour)___Powdery_mildew', 'Peach___Bacterial_spot', 'Corn_(maize)___Cercospora_leaf_spot Gray_leaf_spot', 'Potato___Late_blight', 'Corn_(maize)___Common_rust_', 'Tomato___Septoria_leaf_spot', 'Potato___Early_blight', 'Tomato___Bacterial_spot', 'Pepper,_bell___Bacterial_spot', 'Tomato___Tomato_Yellow_Leaf_Curl_Virus', 'Orange___Haunglongbing_(Citrus_greening)']\n"
          ]
        }
      ]
    },
    {
      "cell_type": "code",
      "source": [
        "from tensorflow import keras\n",
        "from tensorflow.keras import layers\n",
        "\n",
        "# Change pixel range from 0–255 to 0–1\n",
        "rescale = layers.Rescaling(1./255)\n",
        "\n",
        "# Add a small random flip and rotation\n",
        "augment = keras.Sequential([\n",
        "    layers.RandomFlip(\"horizontal\"),\n",
        "    layers.RandomRotation(0.05)\n",
        "])\n",
        "\n",
        "# Apply rescale and augmentation to training data\n",
        "train_ds = training_set.map(lambda x, y: (rescale(x), y))\n",
        "\n",
        "# Apply only rescale to validation data\n",
        "val_ds = validation_set.map(lambda x, y: (rescale(x), y))\n",
        "\n",
        "print(\"Datasets are ready for training!\")\n",
        "\n"
      ],
      "metadata": {
        "colab": {
          "base_uri": "https://localhost:8080/"
        },
        "id": "pHMVBGkmxWsm",
        "outputId": "4c5fd812-3241-42d6-ba80-a92e4ef1ad95"
      },
      "execution_count": null,
      "outputs": [
        {
          "output_type": "stream",
          "name": "stdout",
          "text": [
            "Datasets are ready for training!\n"
          ]
        }
      ]
    },
    {
      "cell_type": "code",
      "source": [
        "from tensorflow.keras.models import Sequential\n",
        "from tensorflow.keras.layers import Input, Flatten, Dense, Dropout\n",
        "\n",
        "# Create an empty Sequential model\n",
        "model = Sequential()\n",
        "\n",
        "print(\"Model created successfully!\")\n"
      ],
      "metadata": {
        "colab": {
          "base_uri": "https://localhost:8080/"
        },
        "id": "Muj19pVvyIJT",
        "outputId": "4e969609-6dfb-4036-c768-d6289e36653b"
      },
      "execution_count": null,
      "outputs": [
        {
          "output_type": "stream",
          "name": "stdout",
          "text": [
            "Model created successfully!\n"
          ]
        }
      ]
    },
    {
      "cell_type": "code",
      "source": [
        "# Input layer\n",
        "model.add(Input(shape=(80, 80, 1)))\n",
        "\n",
        "# Flatten layer\n",
        "model.add(Flatten())\n",
        "\n",
        "print(\"Input and Flatten layers added.\")"
      ],
      "metadata": {
        "colab": {
          "base_uri": "https://localhost:8080/"
        },
        "id": "j-9q_0fEzVtI",
        "outputId": "ac8efeea-53fb-427b-dd64-84ee67ce25b6"
      },
      "execution_count": null,
      "outputs": [
        {
          "output_type": "stream",
          "name": "stdout",
          "text": [
            "Input and Flatten layers added.\n"
          ]
        }
      ]
    },
    {
      "cell_type": "code",
      "source": [
        "# First hidden layer with 512 neurons\n",
        "model.add(Dense(512, activation='relu'))\n",
        "\n",
        "# Dropout layer helps prevent overfitting\n",
        "model.add(Dropout(0.3))\n",
        "\n",
        "print(\"First hidden layer added.\")\n"
      ],
      "metadata": {
        "colab": {
          "base_uri": "https://localhost:8080/"
        },
        "id": "sEzL6BTpzd1C",
        "outputId": "c3da2a11-45ec-4cdc-ab5a-2a4892353430"
      },
      "execution_count": null,
      "outputs": [
        {
          "output_type": "stream",
          "name": "stdout",
          "text": [
            "First hidden layer added.\n"
          ]
        }
      ]
    },
    {
      "cell_type": "code",
      "source": [
        "# Second hidden layer with 256 neurons\n",
        "model.add(Dense(256, activation='relu'))\n",
        "\n",
        "# Again use dropout to avoid overfitting\n",
        "model.add(Dropout(0.3))\n",
        "\n",
        "print(\"Second hidden layer added.\")\n"
      ],
      "metadata": {
        "colab": {
          "base_uri": "https://localhost:8080/"
        },
        "id": "qtcyJxBnziGT",
        "outputId": "4e0bb4b2-4e4a-4bdd-dd42-61af61215e5b"
      },
      "execution_count": null,
      "outputs": [
        {
          "output_type": "stream",
          "name": "stdout",
          "text": [
            "Second hidden layer added.\n"
          ]
        }
      ]
    },
    {
      "cell_type": "code",
      "source": [
        "num_classes = len(class_names)\n",
        "\n",
        "# Output layer: one neuron per class\n",
        "model.add(Dense(num_classes, activation='softmax'))\n",
        "\n",
        "print(\"Output layer added.\")\n"
      ],
      "metadata": {
        "colab": {
          "base_uri": "https://localhost:8080/"
        },
        "id": "AUEV5JbAzj-I",
        "outputId": "b133a6d5-8d69-49e5-d902-bc3e6e2270b9"
      },
      "execution_count": null,
      "outputs": [
        {
          "output_type": "stream",
          "name": "stdout",
          "text": [
            "Output layer added.\n"
          ]
        }
      ]
    },
    {
      "cell_type": "code",
      "source": [
        "from tensorflow.keras.optimizers import Adam\n",
        "\n",
        "model.compile(\n",
        "    optimizer=Adam(learning_rate=0.001),\n",
        "    loss='categorical_crossentropy',\n",
        "    metrics=['accuracy']\n",
        ")\n",
        "\n",
        "print(\"Model compiled successfully!\")\n",
        "\n",
        "model.summary()\n",
        "\n"
      ],
      "metadata": {
        "colab": {
          "base_uri": "https://localhost:8080/",
          "height": 370
        },
        "id": "_-3jmlgkznEK",
        "outputId": "84a13e42-e537-4165-8135-57b163ee232c"
      },
      "execution_count": null,
      "outputs": [
        {
          "output_type": "stream",
          "name": "stdout",
          "text": [
            "Model compiled successfully!\n"
          ]
        },
        {
          "output_type": "display_data",
          "data": {
            "text/plain": [
              "\u001b[1mModel: \"sequential_2\"\u001b[0m\n"
            ],
            "text/html": [
              "<pre style=\"white-space:pre;overflow-x:auto;line-height:normal;font-family:Menlo,'DejaVu Sans Mono',consolas,'Courier New',monospace\"><span style=\"font-weight: bold\">Model: \"sequential_2\"</span>\n",
              "</pre>\n"
            ]
          },
          "metadata": {}
        },
        {
          "output_type": "display_data",
          "data": {
            "text/plain": [
              "┏━━━━━━━━━━━━━━━━━━━━━━━━━━━━━━━━━┳━━━━━━━━━━━━━━━━━━━━━━━━┳━━━━━━━━━━━━━━━┓\n",
              "┃\u001b[1m \u001b[0m\u001b[1mLayer (type)                   \u001b[0m\u001b[1m \u001b[0m┃\u001b[1m \u001b[0m\u001b[1mOutput Shape          \u001b[0m\u001b[1m \u001b[0m┃\u001b[1m \u001b[0m\u001b[1m      Param #\u001b[0m\u001b[1m \u001b[0m┃\n",
              "┡━━━━━━━━━━━━━━━━━━━━━━━━━━━━━━━━━╇━━━━━━━━━━━━━━━━━━━━━━━━╇━━━━━━━━━━━━━━━┩\n",
              "│ flatten_1 (\u001b[38;5;33mFlatten\u001b[0m)             │ (\u001b[38;5;45mNone\u001b[0m, \u001b[38;5;34m6400\u001b[0m)           │             \u001b[38;5;34m0\u001b[0m │\n",
              "├─────────────────────────────────┼────────────────────────┼───────────────┤\n",
              "│ dense_3 (\u001b[38;5;33mDense\u001b[0m)                 │ (\u001b[38;5;45mNone\u001b[0m, \u001b[38;5;34m512\u001b[0m)            │     \u001b[38;5;34m3,277,312\u001b[0m │\n",
              "├─────────────────────────────────┼────────────────────────┼───────────────┤\n",
              "│ dropout_2 (\u001b[38;5;33mDropout\u001b[0m)             │ (\u001b[38;5;45mNone\u001b[0m, \u001b[38;5;34m512\u001b[0m)            │             \u001b[38;5;34m0\u001b[0m │\n",
              "├─────────────────────────────────┼────────────────────────┼───────────────┤\n",
              "│ dense_4 (\u001b[38;5;33mDense\u001b[0m)                 │ (\u001b[38;5;45mNone\u001b[0m, \u001b[38;5;34m256\u001b[0m)            │       \u001b[38;5;34m131,328\u001b[0m │\n",
              "├─────────────────────────────────┼────────────────────────┼───────────────┤\n",
              "│ dense_5 (\u001b[38;5;33mDense\u001b[0m)                 │ (\u001b[38;5;45mNone\u001b[0m, \u001b[38;5;34m256\u001b[0m)            │        \u001b[38;5;34m65,792\u001b[0m │\n",
              "├─────────────────────────────────┼────────────────────────┼───────────────┤\n",
              "│ dropout_4 (\u001b[38;5;33mDropout\u001b[0m)             │ (\u001b[38;5;45mNone\u001b[0m, \u001b[38;5;34m256\u001b[0m)            │             \u001b[38;5;34m0\u001b[0m │\n",
              "├─────────────────────────────────┼────────────────────────┼───────────────┤\n",
              "│ dense_6 (\u001b[38;5;33mDense\u001b[0m)                 │ (\u001b[38;5;45mNone\u001b[0m, \u001b[38;5;34m26\u001b[0m)             │         \u001b[38;5;34m6,682\u001b[0m │\n",
              "└─────────────────────────────────┴────────────────────────┴───────────────┘\n"
            ],
            "text/html": [
              "<pre style=\"white-space:pre;overflow-x:auto;line-height:normal;font-family:Menlo,'DejaVu Sans Mono',consolas,'Courier New',monospace\">┏━━━━━━━━━━━━━━━━━━━━━━━━━━━━━━━━━┳━━━━━━━━━━━━━━━━━━━━━━━━┳━━━━━━━━━━━━━━━┓\n",
              "┃<span style=\"font-weight: bold\"> Layer (type)                    </span>┃<span style=\"font-weight: bold\"> Output Shape           </span>┃<span style=\"font-weight: bold\">       Param # </span>┃\n",
              "┡━━━━━━━━━━━━━━━━━━━━━━━━━━━━━━━━━╇━━━━━━━━━━━━━━━━━━━━━━━━╇━━━━━━━━━━━━━━━┩\n",
              "│ flatten_1 (<span style=\"color: #0087ff; text-decoration-color: #0087ff\">Flatten</span>)             │ (<span style=\"color: #00d7ff; text-decoration-color: #00d7ff\">None</span>, <span style=\"color: #00af00; text-decoration-color: #00af00\">6400</span>)           │             <span style=\"color: #00af00; text-decoration-color: #00af00\">0</span> │\n",
              "├─────────────────────────────────┼────────────────────────┼───────────────┤\n",
              "│ dense_3 (<span style=\"color: #0087ff; text-decoration-color: #0087ff\">Dense</span>)                 │ (<span style=\"color: #00d7ff; text-decoration-color: #00d7ff\">None</span>, <span style=\"color: #00af00; text-decoration-color: #00af00\">512</span>)            │     <span style=\"color: #00af00; text-decoration-color: #00af00\">3,277,312</span> │\n",
              "├─────────────────────────────────┼────────────────────────┼───────────────┤\n",
              "│ dropout_2 (<span style=\"color: #0087ff; text-decoration-color: #0087ff\">Dropout</span>)             │ (<span style=\"color: #00d7ff; text-decoration-color: #00d7ff\">None</span>, <span style=\"color: #00af00; text-decoration-color: #00af00\">512</span>)            │             <span style=\"color: #00af00; text-decoration-color: #00af00\">0</span> │\n",
              "├─────────────────────────────────┼────────────────────────┼───────────────┤\n",
              "│ dense_4 (<span style=\"color: #0087ff; text-decoration-color: #0087ff\">Dense</span>)                 │ (<span style=\"color: #00d7ff; text-decoration-color: #00d7ff\">None</span>, <span style=\"color: #00af00; text-decoration-color: #00af00\">256</span>)            │       <span style=\"color: #00af00; text-decoration-color: #00af00\">131,328</span> │\n",
              "├─────────────────────────────────┼────────────────────────┼───────────────┤\n",
              "│ dense_5 (<span style=\"color: #0087ff; text-decoration-color: #0087ff\">Dense</span>)                 │ (<span style=\"color: #00d7ff; text-decoration-color: #00d7ff\">None</span>, <span style=\"color: #00af00; text-decoration-color: #00af00\">256</span>)            │        <span style=\"color: #00af00; text-decoration-color: #00af00\">65,792</span> │\n",
              "├─────────────────────────────────┼────────────────────────┼───────────────┤\n",
              "│ dropout_4 (<span style=\"color: #0087ff; text-decoration-color: #0087ff\">Dropout</span>)             │ (<span style=\"color: #00d7ff; text-decoration-color: #00d7ff\">None</span>, <span style=\"color: #00af00; text-decoration-color: #00af00\">256</span>)            │             <span style=\"color: #00af00; text-decoration-color: #00af00\">0</span> │\n",
              "├─────────────────────────────────┼────────────────────────┼───────────────┤\n",
              "│ dense_6 (<span style=\"color: #0087ff; text-decoration-color: #0087ff\">Dense</span>)                 │ (<span style=\"color: #00d7ff; text-decoration-color: #00d7ff\">None</span>, <span style=\"color: #00af00; text-decoration-color: #00af00\">26</span>)             │         <span style=\"color: #00af00; text-decoration-color: #00af00\">6,682</span> │\n",
              "└─────────────────────────────────┴────────────────────────┴───────────────┘\n",
              "</pre>\n"
            ]
          },
          "metadata": {}
        },
        {
          "output_type": "display_data",
          "data": {
            "text/plain": [
              "\u001b[1m Total params: \u001b[0m\u001b[38;5;34m3,481,114\u001b[0m (13.28 MB)\n"
            ],
            "text/html": [
              "<pre style=\"white-space:pre;overflow-x:auto;line-height:normal;font-family:Menlo,'DejaVu Sans Mono',consolas,'Courier New',monospace\"><span style=\"font-weight: bold\"> Total params: </span><span style=\"color: #00af00; text-decoration-color: #00af00\">3,481,114</span> (13.28 MB)\n",
              "</pre>\n"
            ]
          },
          "metadata": {}
        },
        {
          "output_type": "display_data",
          "data": {
            "text/plain": [
              "\u001b[1m Trainable params: \u001b[0m\u001b[38;5;34m3,481,114\u001b[0m (13.28 MB)\n"
            ],
            "text/html": [
              "<pre style=\"white-space:pre;overflow-x:auto;line-height:normal;font-family:Menlo,'DejaVu Sans Mono',consolas,'Courier New',monospace\"><span style=\"font-weight: bold\"> Trainable params: </span><span style=\"color: #00af00; text-decoration-color: #00af00\">3,481,114</span> (13.28 MB)\n",
              "</pre>\n"
            ]
          },
          "metadata": {}
        },
        {
          "output_type": "display_data",
          "data": {
            "text/plain": [
              "\u001b[1m Non-trainable params: \u001b[0m\u001b[38;5;34m0\u001b[0m (0.00 B)\n"
            ],
            "text/html": [
              "<pre style=\"white-space:pre;overflow-x:auto;line-height:normal;font-family:Menlo,'DejaVu Sans Mono',consolas,'Courier New',monospace\"><span style=\"font-weight: bold\"> Non-trainable params: </span><span style=\"color: #00af00; text-decoration-color: #00af00\">0</span> (0.00 B)\n",
              "</pre>\n"
            ]
          },
          "metadata": {}
        }
      ]
    },
    {
      "cell_type": "code",
      "source": [
        "import sys\n",
        "from io import StringIO\n",
        "\n",
        "stringlist = []\n",
        "model.summary(print_fn=lambda x: stringlist.append(x))\n",
        "short_model_summary = \"\\n\".join(stringlist)\n",
        "\n",
        "with open(\"/content/drive/MyDrive/model_summary.txt\", \"w\") as f:\n",
        "    f.write(short_model_summary)\n",
        "\n",
        "print(\"Model summary saved to /content/drive/MyDrive/models/model_summary.txt\")"
      ],
      "metadata": {
        "colab": {
          "base_uri": "https://localhost:8080/",
          "height": 34
        },
        "id": "qkcJ8GtG1qPR",
        "outputId": "2bcdb94f-bdf3-4f34-ce56-55ddc0aca9dc"
      },
      "execution_count": null,
      "outputs": [
        {
          "output_type": "display_data",
          "data": {
            "text/plain": [],
            "text/html": [
              "<pre style=\"white-space:pre;overflow-x:auto;line-height:normal;font-family:Menlo,'DejaVu Sans Mono',consolas,'Courier New',monospace\"></pre>\n"
            ]
          },
          "metadata": {}
        },
        {
          "output_type": "stream",
          "name": "stdout",
          "text": [
            "Model summary saved to /content/drive/MyDrive/models/model_summary.txt\n"
          ]
        }
      ]
    },
    {
      "cell_type": "code",
      "source": [
        "from tensorflow.keras.callbacks import EarlyStopping, ReduceLROnPlateau, ModelCheckpoint\n",
        "\n",
        "callbacks = [\n",
        "    EarlyStopping(monitor='val_loss', patience=5, restore_best_weights=True),\n",
        "    ReduceLROnPlateau(monitor='val_loss', factor=0.2, patience=3, min_lr=1e-6),\n",
        "    ModelCheckpoint('best_model.keras', monitor='val_loss', save_best_only=True)\n",
        "]\n",
        "\n",
        "print(\"Callbacks ready.\")"
      ],
      "metadata": {
        "colab": {
          "base_uri": "https://localhost:8080/"
        },
        "id": "CJwDYXuI0NQc",
        "outputId": "989c50d6-e2ad-4ca5-86d9-f2f1a7444234"
      },
      "execution_count": null,
      "outputs": [
        {
          "output_type": "stream",
          "name": "stdout",
          "text": [
            "Callbacks ready.\n"
          ]
        }
      ]
    },
    {
      "cell_type": "code",
      "source": [
        "# Number of times the model will see all the training data\n",
        "EPOCHS = 20\n",
        "\n",
        "print(\"Model will train for\", EPOCHS, \"epochs.\")\n",
        "\n",
        "# Start training the MLP model\n",
        "history = model.fit(\n",
        "    training_set,              # training data\n",
        "    validation_data=validation_set,# validation data\n",
        "    epochs=EPOCHS          # how many times to train\n",
        ")\n",
        "\n",
        "# Train again but now with callbacks for early stop and saving best model\n",
        "history = model.fit(\n",
        "    training_set,\n",
        "    validation_data=validation_set,\n",
        "    epochs=EPOCHS,\n",
        "    callbacks=callbacks    # uses the helpers you created earlier\n",
        ")\n",
        "\n"
      ],
      "metadata": {
        "colab": {
          "base_uri": "https://localhost:8080/"
        },
        "id": "Zcz7Jdle1QEB",
        "outputId": "6dd6aad8-a2f6-4335-edd8-45112016ad67"
      },
      "execution_count": null,
      "outputs": [
        {
          "output_type": "stream",
          "name": "stdout",
          "text": [
            "Model will train for 20 epochs.\n",
            "Epoch 1/20\n",
            "\u001b[1m1501/1501\u001b[0m \u001b[32m━━━━━━━━━━━━━━━━━━━━\u001b[0m\u001b[37m\u001b[0m \u001b[1m116s\u001b[0m 77ms/step - accuracy: 0.0425 - loss: 3.2561 - val_accuracy: 0.0420 - val_loss: 3.2565\n",
            "Epoch 2/20\n",
            "\u001b[1m1501/1501\u001b[0m \u001b[32m━━━━━━━━━━━━━━━━━━━━\u001b[0m\u001b[37m\u001b[0m \u001b[1m141s\u001b[0m 76ms/step - accuracy: 0.0427 - loss: 3.2562 - val_accuracy: 0.0420 - val_loss: 3.2565\n",
            "Epoch 3/20\n",
            "\u001b[1m1501/1501\u001b[0m \u001b[32m━━━━━━━━━━━━━━━━━━━━\u001b[0m\u001b[37m\u001b[0m \u001b[1m112s\u001b[0m 75ms/step - accuracy: 0.0426 - loss: 3.2560 - val_accuracy: 0.0420 - val_loss: 3.2565\n",
            "Epoch 4/20\n",
            "\u001b[1m1501/1501\u001b[0m \u001b[32m━━━━━━━━━━━━━━━━━━━━\u001b[0m\u001b[37m\u001b[0m \u001b[1m113s\u001b[0m 75ms/step - accuracy: 0.0423 - loss: 3.2560 - val_accuracy: 0.0420 - val_loss: 3.2565\n",
            "Epoch 5/20\n",
            "\u001b[1m1501/1501\u001b[0m \u001b[32m━━━━━━━━━━━━━━━━━━━━\u001b[0m\u001b[37m\u001b[0m \u001b[1m113s\u001b[0m 75ms/step - accuracy: 0.0423 - loss: 3.2564 - val_accuracy: 0.0420 - val_loss: 3.2565\n",
            "Epoch 6/20\n",
            "\u001b[1m1501/1501\u001b[0m \u001b[32m━━━━━━━━━━━━━━━━━━━━\u001b[0m\u001b[37m\u001b[0m \u001b[1m112s\u001b[0m 75ms/step - accuracy: 0.0426 - loss: 3.2561 - val_accuracy: 0.0420 - val_loss: 3.2565\n",
            "Epoch 7/20\n",
            "\u001b[1m1501/1501\u001b[0m \u001b[32m━━━━━━━━━━━━━━━━━━━━\u001b[0m\u001b[37m\u001b[0m \u001b[1m110s\u001b[0m 73ms/step - accuracy: 0.0426 - loss: 3.2560 - val_accuracy: 0.0420 - val_loss: 3.2565\n",
            "Epoch 8/20\n",
            "\u001b[1m1501/1501\u001b[0m \u001b[32m━━━━━━━━━━━━━━━━━━━━\u001b[0m\u001b[37m\u001b[0m \u001b[1m113s\u001b[0m 76ms/step - accuracy: 0.0427 - loss: 3.2561 - val_accuracy: 0.0420 - val_loss: 3.2565\n",
            "Epoch 9/20\n",
            "\u001b[1m1501/1501\u001b[0m \u001b[32m━━━━━━━━━━━━━━━━━━━━\u001b[0m\u001b[37m\u001b[0m \u001b[1m112s\u001b[0m 74ms/step - accuracy: 0.0426 - loss: 3.2560 - val_accuracy: 0.0420 - val_loss: 3.2565\n",
            "Epoch 10/20\n",
            "\u001b[1m1501/1501\u001b[0m \u001b[32m━━━━━━━━━━━━━━━━━━━━\u001b[0m\u001b[37m\u001b[0m \u001b[1m144s\u001b[0m 76ms/step - accuracy: 0.0424 - loss: 3.2561 - val_accuracy: 0.0420 - val_loss: 3.2565\n",
            "Epoch 11/20\n",
            "\u001b[1m1501/1501\u001b[0m \u001b[32m━━━━━━━━━━━━━━━━━━━━\u001b[0m\u001b[37m\u001b[0m \u001b[1m111s\u001b[0m 74ms/step - accuracy: 0.0424 - loss: 3.2560 - val_accuracy: 0.0420 - val_loss: 3.2565\n",
            "Epoch 12/20\n",
            "\u001b[1m1501/1501\u001b[0m \u001b[32m━━━━━━━━━━━━━━━━━━━━\u001b[0m\u001b[37m\u001b[0m \u001b[1m141s\u001b[0m 73ms/step - accuracy: 0.0424 - loss: 3.2563 - val_accuracy: 0.0420 - val_loss: 3.2565\n",
            "Epoch 13/20\n",
            "\u001b[1m1501/1501\u001b[0m \u001b[32m━━━━━━━━━━━━━━━━━━━━\u001b[0m\u001b[37m\u001b[0m \u001b[1m112s\u001b[0m 75ms/step - accuracy: 0.0426 - loss: 3.2560 - val_accuracy: 0.0420 - val_loss: 3.2565\n",
            "Epoch 14/20\n",
            "\u001b[1m1501/1501\u001b[0m \u001b[32m━━━━━━━━━━━━━━━━━━━━\u001b[0m\u001b[37m\u001b[0m \u001b[1m120s\u001b[0m 80ms/step - accuracy: 0.0424 - loss: 3.2562 - val_accuracy: 0.0420 - val_loss: 3.2565\n",
            "Epoch 15/20\n",
            "\u001b[1m1501/1501\u001b[0m \u001b[32m━━━━━━━━━━━━━━━━━━━━\u001b[0m\u001b[37m\u001b[0m \u001b[1m112s\u001b[0m 75ms/step - accuracy: 0.0425 - loss: 3.2561 - val_accuracy: 0.0420 - val_loss: 3.2565\n",
            "Epoch 16/20\n",
            "\u001b[1m1501/1501\u001b[0m \u001b[32m━━━━━━━━━━━━━━━━━━━━\u001b[0m\u001b[37m\u001b[0m \u001b[1m142s\u001b[0m 75ms/step - accuracy: 0.0423 - loss: 3.2564 - val_accuracy: 0.0420 - val_loss: 3.2565\n",
            "Epoch 17/20\n",
            "\u001b[1m1501/1501\u001b[0m \u001b[32m━━━━━━━━━━━━━━━━━━━━\u001b[0m\u001b[37m\u001b[0m \u001b[1m144s\u001b[0m 76ms/step - accuracy: 0.0423 - loss: 3.2561 - val_accuracy: 0.0420 - val_loss: 3.2565\n",
            "Epoch 18/20\n",
            "\u001b[1m1501/1501\u001b[0m \u001b[32m━━━━━━━━━━━━━━━━━━━━\u001b[0m\u001b[37m\u001b[0m \u001b[1m141s\u001b[0m 75ms/step - accuracy: 0.0424 - loss: 3.2563 - val_accuracy: 0.0420 - val_loss: 3.2565\n",
            "Epoch 19/20\n",
            "\u001b[1m1501/1501\u001b[0m \u001b[32m━━━━━━━━━━━━━━━━━━━━\u001b[0m\u001b[37m\u001b[0m \u001b[1m111s\u001b[0m 74ms/step - accuracy: 0.0426 - loss: 3.2560 - val_accuracy: 0.0420 - val_loss: 3.2565\n",
            "Epoch 20/20\n",
            "\u001b[1m1501/1501\u001b[0m \u001b[32m━━━━━━━━━━━━━━━━━━━━\u001b[0m\u001b[37m\u001b[0m \u001b[1m115s\u001b[0m 76ms/step - accuracy: 0.0424 - loss: 3.2564 - val_accuracy: 0.0420 - val_loss: 3.2565\n",
            "Epoch 1/20\n",
            "\u001b[1m1501/1501\u001b[0m \u001b[32m━━━━━━━━━━━━━━━━━━━━\u001b[0m\u001b[37m\u001b[0m \u001b[1m116s\u001b[0m 77ms/step - accuracy: 0.0424 - loss: 3.2565 - val_accuracy: 0.0420 - val_loss: 3.2565 - learning_rate: 1.6000e-06\n",
            "Epoch 2/20\n",
            "\u001b[1m1501/1501\u001b[0m \u001b[32m━━━━━━━━━━━━━━━━━━━━\u001b[0m\u001b[37m\u001b[0m \u001b[1m137s\u001b[0m 74ms/step - accuracy: 0.0425 - loss: 3.2560 - val_accuracy: 0.0420 - val_loss: 3.2565 - learning_rate: 1.6000e-06\n",
            "Epoch 3/20\n",
            "\u001b[1m1501/1501\u001b[0m \u001b[32m━━━━━━━━━━━━━━━━━━━━\u001b[0m\u001b[37m\u001b[0m \u001b[1m113s\u001b[0m 75ms/step - accuracy: 0.0423 - loss: 3.2563 - val_accuracy: 0.0420 - val_loss: 3.2565 - learning_rate: 1.6000e-06\n",
            "Epoch 4/20\n",
            "\u001b[1m1501/1501\u001b[0m \u001b[32m━━━━━━━━━━━━━━━━━━━━\u001b[0m\u001b[37m\u001b[0m \u001b[1m115s\u001b[0m 77ms/step - accuracy: 0.0425 - loss: 3.2562 - val_accuracy: 0.0420 - val_loss: 3.2565 - learning_rate: 1.6000e-06\n",
            "Epoch 5/20\n",
            "\u001b[1m1501/1501\u001b[0m \u001b[32m━━━━━━━━━━━━━━━━━━━━\u001b[0m\u001b[37m\u001b[0m \u001b[1m139s\u001b[0m 75ms/step - accuracy: 0.0425 - loss: 3.2561 - val_accuracy: 0.0420 - val_loss: 3.2565 - learning_rate: 1.0000e-06\n",
            "Epoch 6/20\n",
            "\u001b[1m1501/1501\u001b[0m \u001b[32m━━━━━━━━━━━━━━━━━━━━\u001b[0m\u001b[37m\u001b[0m \u001b[1m113s\u001b[0m 75ms/step - accuracy: 0.0425 - loss: 3.2561 - val_accuracy: 0.0420 - val_loss: 3.2565 - learning_rate: 1.0000e-06\n",
            "Epoch 7/20\n",
            "\u001b[1m1501/1501\u001b[0m \u001b[32m━━━━━━━━━━━━━━━━━━━━\u001b[0m\u001b[37m\u001b[0m \u001b[1m113s\u001b[0m 75ms/step - accuracy: 0.0425 - loss: 3.2560 - val_accuracy: 0.0420 - val_loss: 3.2565 - learning_rate: 1.0000e-06\n",
            "Epoch 8/20\n",
            "\u001b[1m1501/1501\u001b[0m \u001b[32m━━━━━━━━━━━━━━━━━━━━\u001b[0m\u001b[37m\u001b[0m \u001b[1m143s\u001b[0m 75ms/step - accuracy: 0.0423 - loss: 3.2563 - val_accuracy: 0.0420 - val_loss: 3.2565 - learning_rate: 1.0000e-06\n",
            "Epoch 9/20\n",
            "\u001b[1m1501/1501\u001b[0m \u001b[32m━━━━━━━━━━━━━━━━━━━━\u001b[0m\u001b[37m\u001b[0m \u001b[1m114s\u001b[0m 76ms/step - accuracy: 0.0424 - loss: 3.2563 - val_accuracy: 0.0420 - val_loss: 3.2565 - learning_rate: 1.0000e-06\n",
            "Epoch 10/20\n",
            "\u001b[1m1501/1501\u001b[0m \u001b[32m━━━━━━━━━━━━━━━━━━━━\u001b[0m\u001b[37m\u001b[0m \u001b[1m111s\u001b[0m 74ms/step - accuracy: 0.0425 - loss: 3.2561 - val_accuracy: 0.0420 - val_loss: 3.2565 - learning_rate: 1.0000e-06\n",
            "Epoch 11/20\n",
            "\u001b[1m1501/1501\u001b[0m \u001b[32m━━━━━━━━━━━━━━━━━━━━\u001b[0m\u001b[37m\u001b[0m \u001b[1m112s\u001b[0m 75ms/step - accuracy: 0.0425 - loss: 3.2562 - val_accuracy: 0.0420 - val_loss: 3.2565 - learning_rate: 1.0000e-06\n"
          ]
        }
      ]
    },
    {
      "cell_type": "code",
      "source": [
        "# Check how well the model learned the training data\n",
        "train_loss, train_acc = model.evaluate(train_ds)\n",
        "\n",
        "print(\"Training Loss:\", train_loss)\n",
        "print(\"Training Accuracy:\", train_acc)\n"
      ],
      "metadata": {
        "colab": {
          "base_uri": "https://localhost:8080/"
        },
        "id": "SwWUhhar1g_Z",
        "outputId": "1d3905db-0cd7-4dd0-aaae-a736b3a981d5"
      },
      "execution_count": null,
      "outputs": [
        {
          "output_type": "stream",
          "name": "stdout",
          "text": [
            "\u001b[1m1501/1501\u001b[0m \u001b[32m━━━━━━━━━━━━━━━━━━━━\u001b[0m\u001b[37m\u001b[0m \u001b[1m44s\u001b[0m 29ms/step - accuracy: 0.0425 - loss: 3.2565\n",
            "Training Loss: 3.256446123123169\n",
            "Training Accuracy: 0.04212412238121033\n"
          ]
        }
      ]
    },
    {
      "cell_type": "code",
      "source": [
        "# Check how well the model performs on unseen data\n",
        "val_loss, val_acc = model.evaluate(val_ds)\n",
        "\n",
        "print(\"Validation Loss:\", val_loss)\n",
        "print(\"Validation Accuracy:\", val_acc)\n"
      ],
      "metadata": {
        "colab": {
          "base_uri": "https://localhost:8080/"
        },
        "id": "i8r3Tm9IEwxm",
        "outputId": "199fb71e-3abc-4b4a-f132-c80d0424f190"
      },
      "execution_count": null,
      "outputs": [
        {
          "output_type": "stream",
          "name": "stdout",
          "text": [
            "\u001b[1m375/375\u001b[0m \u001b[32m━━━━━━━━━━━━━━━━━━━━\u001b[0m\u001b[37m\u001b[0m \u001b[1m11s\u001b[0m 29ms/step - accuracy: 0.0399 - loss: 3.2572\n",
            "Validation Loss: 3.256472587585449\n",
            "Validation Accuracy: 0.041999999433755875\n"
          ]
        }
      ]
    },
    {
      "cell_type": "code",
      "source": [
        "model.save(\"/content/drive/MyDrive/models/model26.keras\")"
      ],
      "metadata": {
        "id": "aU55pLybKFxx"
      },
      "execution_count": null,
      "outputs": []
    },
    {
      "cell_type": "code",
      "source": [
        "model = tf.keras.models.load_model(\"/content/drive/MyDrive/models/model26.keras\")"
      ],
      "metadata": {
        "id": "Q_JEEm4n2z2f"
      },
      "execution_count": null,
      "outputs": []
    },
    {
      "cell_type": "code",
      "source": [
        "import os\n",
        "import numpy as np\n",
        "from tensorflow.keras.utils import load_img, img_to_array\n",
        "import tensorflow as tf\n",
        "\n",
        "# Change this to the real image path you want to test\n",
        "img_path = '/content/test/test/PotatoEarlyBlight1.JPG'\n",
        "\n",
        "img = load_img(img_path, color_mode='grayscale', target_size=(80, 80))\n",
        "\n",
        "# Convert the image to an array (numbers)\n",
        "x = img_to_array(img)\n",
        "\n",
        "# Normalize pixel values (0–255 → 0–1)\n",
        "x = x / 255.0\n",
        "\n",
        "# Expand dimensions\n",
        "x = np.expand_dims(x, axis=0)\n",
        "\n",
        "save_dir = \"/content/drive/MyDrive/models\"\n",
        "model_path = os.path.join(save_dir, \"model26.keras\")\n",
        "inference_model = tf.keras.models.load_model(model_path)\n",
        "\n",
        "print(\"Model loaded successfully from:\", model_path)\n",
        "\n",
        "\n"
      ],
      "metadata": {
        "colab": {
          "base_uri": "https://localhost:8080/"
        },
        "id": "1PqJlKka25Lh",
        "outputId": "55114728-348b-4251-8352-6f6f2b8072b1"
      },
      "execution_count": null,
      "outputs": [
        {
          "output_type": "stream",
          "name": "stdout",
          "text": [
            "Model loaded successfully from: /content/drive/MyDrive/models/model26.keras\n"
          ]
        }
      ]
    },
    {
      "cell_type": "code",
      "source": [
        "# Ask the model to predict the class of the image\n",
        "probs = inference_model.predict(x)\n",
        "\n",
        "# Get the index of the class with the highest probability\n",
        "pred_idx = np.argmax(probs[0])\n",
        "\n",
        "# Get the name of that class\n",
        "pred_class = class_names[pred_idx]\n",
        "\n",
        "# Get the confidence level (probability)\n",
        "confidence = probs[0][pred_idx]\n",
        "\n",
        "print(\"Predicted Class :\", pred_class)\n",
        "print(\"Confidence Level:\", round(float(confidence), 4))\n"
      ],
      "metadata": {
        "colab": {
          "base_uri": "https://localhost:8080/"
        },
        "id": "4D2DVQIq3GNq",
        "outputId": "fffac69d-7e9e-4e49-e51b-87c94bfc57aa"
      },
      "execution_count": null,
      "outputs": [
        {
          "output_type": "stream",
          "name": "stdout",
          "text": [
            "\u001b[1m1/1\u001b[0m \u001b[32m━━━━━━━━━━━━━━━━━━━━\u001b[0m\u001b[37m\u001b[0m \u001b[1m0s\u001b[0m 240ms/step\n",
            "Predicted Class : Apple___Apple_scab\n",
            "Confidence Level: 0.0421\n"
          ]
        }
      ]
    },
    {
      "cell_type": "code",
      "source": [],
      "metadata": {
        "id": "ts2AU3resl-Z"
      },
      "execution_count": null,
      "outputs": []
    }
  ]
}