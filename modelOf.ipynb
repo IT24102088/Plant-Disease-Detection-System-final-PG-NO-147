{
  "nbformat": 4,
  "nbformat_minor": 0,
  "metadata": {
    "colab": {
      "provenance": [],
      "gpuType": "T4",
      "include_colab_link": true
    },
    "kernelspec": {
      "name": "python3",
      "display_name": "Python 3"
    },
    "language_info": {
      "name": "python"
    },
    "accelerator": "GPU"
  },
  "cells": [
    {
      "cell_type": "markdown",
      "metadata": {
        "id": "view-in-github",
        "colab_type": "text"
      },
      "source": [
        "<a href=\"https://colab.research.google.com/github/IT24102088/Plant-Disease-Detection-System-final-PG-NO-147/blob/main/modelOf.ipynb\" target=\"_parent\"><img src=\"https://colab.research.google.com/assets/colab-badge.svg\" alt=\"Open In Colab\"/></a>"
      ]
    },
    {
      "cell_type": "code",
      "execution_count": null,
      "metadata": {
        "id": "zfg2uscND6tH",
        "colab": {
          "base_uri": "https://localhost:8080/"
        },
        "outputId": "56af4720-e58a-498e-aacc-8fef2bd3a3a7"
      },
      "outputs": [
        {
          "output_type": "stream",
          "name": "stdout",
          "text": [
            "Mounted at /content/drive\n"
          ]
        }
      ],
      "source": [
        "from google.colab import drive\n",
        "drive.mount('/content/drive')"
      ]
    },
    {
      "cell_type": "code",
      "source": [
        "from IPython.display import clear_output\n",
        "!pip install kaggle\n",
        "import os\n",
        "os.environ['KAGGLE_USERNAME'] = 'supuntheekshanam'\n",
        "os.environ['KAGGLE_KEY'] = '97fb6c99381c9d6779d3f904ef279dce'\n",
        "clear_output()"
      ],
      "metadata": {
        "id": "XbARGtmmEA5O"
      },
      "execution_count": null,
      "outputs": []
    },
    {
      "cell_type": "code",
      "source": [
        "!kaggle datasets download -d \"vipoooool/new-plant-diseases-dataset\" -p /content/drive/MyDrive/datasets/"
      ],
      "metadata": {
        "id": "UDApKaKvECiP"
      },
      "execution_count": null,
      "outputs": []
    },
    {
      "cell_type": "code",
      "source": [
        "from IPython.display import clear_output\n",
        "!unzip /content/drive/MyDrive/datasets/new-plant-diseases-dataset.zip\n",
        "clear_output()"
      ],
      "metadata": {
        "id": "xrQs4Ou2EEPw"
      },
      "execution_count": null,
      "outputs": []
    },
    {
      "cell_type": "code",
      "source": [
        "import tensorflow as tf\n",
        "import os\n",
        "data_dir = '/content/New Plant Diseases Dataset(Augmented)/New Plant Diseases Dataset(Augmented)/train'\n",
        "\n",
        "class_names = [d for d in os.listdir(data_dir)\n",
        "               if os.path.isdir(os.path.join(data_dir, d)) and 'healthy' not in d.lower()]\n",
        "\n",
        "training_set = tf.keras.utils.image_dataset_from_directory(\n",
        "    data_dir,\n",
        "    labels=\"inferred\",\n",
        "    label_mode=\"categorical\",\n",
        "    class_names=class_names,\n",
        "    color_mode=\"rgb\",\n",
        "    batch_size=32,\n",
        "    image_size=(224, 224),\n",
        "    shuffle=True\n",
        ")\n",
        "\n",
        "print(class_names)"
      ],
      "metadata": {
        "id": "O7gLmONjEHRU",
        "colab": {
          "base_uri": "https://localhost:8080/"
        },
        "outputId": "6ea0b862-a9c3-43b2-d554-1a47a7bd0302"
      },
      "execution_count": null,
      "outputs": [
        {
          "output_type": "stream",
          "name": "stdout",
          "text": [
            "Found 48001 files belonging to 26 classes.\n",
            "['Grape___Leaf_blight_(Isariopsis_Leaf_Spot)', 'Tomato___Tomato_Yellow_Leaf_Curl_Virus', 'Apple___Cedar_apple_rust', 'Pepper,_bell___Bacterial_spot', 'Tomato___Target_Spot', 'Strawberry___Leaf_scorch', 'Tomato___Septoria_leaf_spot', 'Grape___Black_rot', 'Cherry_(including_sour)___Powdery_mildew', 'Apple___Black_rot', 'Apple___Apple_scab', 'Tomato___Spider_mites Two-spotted_spider_mite', 'Corn_(maize)___Common_rust_', 'Tomato___Early_blight', 'Tomato___Late_blight', 'Tomato___Bacterial_spot', 'Potato___Late_blight', 'Tomato___Tomato_mosaic_virus', 'Corn_(maize)___Northern_Leaf_Blight', 'Corn_(maize)___Cercospora_leaf_spot Gray_leaf_spot', 'Grape___Esca_(Black_Measles)', 'Peach___Bacterial_spot', 'Squash___Powdery_mildew', 'Orange___Haunglongbing_(Citrus_greening)', 'Tomato___Leaf_Mold', 'Potato___Early_blight']\n"
          ]
        }
      ]
    },
    {
      "cell_type": "code",
      "source": [
        "data_dir = '/content/New Plant Diseases Dataset(Augmented)/New Plant Diseases Dataset(Augmented)/valid'\n",
        "\n",
        "class_names = [d for d in os.listdir(data_dir)\n",
        "               if os.path.isdir(os.path.join(data_dir, d)) and 'healthy' not in d.lower()]\n",
        "\n",
        "validation_set = tf.keras.utils.image_dataset_from_directory(\n",
        "    data_dir,\n",
        "    labels=\"inferred\",\n",
        "    label_mode=\"categorical\",\n",
        "    class_names=class_names,\n",
        "    color_mode=\"rgb\",\n",
        "    batch_size=32,\n",
        "    image_size=(224, 224),\n",
        "    shuffle=True\n",
        ")"
      ],
      "metadata": {
        "id": "PDtaR9rJEJR9",
        "colab": {
          "base_uri": "https://localhost:8080/"
        },
        "outputId": "d44801cb-b85c-41ca-80ac-6476c66adf36"
      },
      "execution_count": null,
      "outputs": [
        {
          "output_type": "stream",
          "name": "stdout",
          "text": [
            "Found 12000 files belonging to 26 classes.\n"
          ]
        }
      ]
    },
    {
      "cell_type": "code",
      "source": [
        "print(\"Classes used for training:\")\n",
        "print(class_names)"
      ],
      "metadata": {
        "id": "NbJ7hXBIELMe",
        "colab": {
          "base_uri": "https://localhost:8080/"
        },
        "outputId": "56b62f00-9c65-4cea-90db-8ac5e956abdb"
      },
      "execution_count": null,
      "outputs": [
        {
          "output_type": "stream",
          "name": "stdout",
          "text": [
            "Classes used for training:\n",
            "['Grape___Leaf_blight_(Isariopsis_Leaf_Spot)', 'Tomato___Tomato_Yellow_Leaf_Curl_Virus', 'Apple___Cedar_apple_rust', 'Pepper,_bell___Bacterial_spot', 'Tomato___Target_Spot', 'Strawberry___Leaf_scorch', 'Tomato___Septoria_leaf_spot', 'Grape___Black_rot', 'Cherry_(including_sour)___Powdery_mildew', 'Apple___Black_rot', 'Apple___Apple_scab', 'Tomato___Spider_mites Two-spotted_spider_mite', 'Corn_(maize)___Common_rust_', 'Tomato___Early_blight', 'Tomato___Late_blight', 'Tomato___Bacterial_spot', 'Potato___Late_blight', 'Tomato___Tomato_mosaic_virus', 'Corn_(maize)___Northern_Leaf_Blight', 'Corn_(maize)___Cercospora_leaf_spot Gray_leaf_spot', 'Grape___Esca_(Black_Measles)', 'Peach___Bacterial_spot', 'Squash___Powdery_mildew', 'Orange___Haunglongbing_(Citrus_greening)', 'Tomato___Leaf_Mold', 'Potato___Early_blight']\n"
          ]
        }
      ]
    },
    {
      "cell_type": "code",
      "source": [
        "from tensorflow import keras\n",
        "from tensorflow.keras.layers import Rescaling\n",
        "training_set = training_set.map(lambda x, y: (Rescaling(1./255)(x), y))\n",
        "validation_set = validation_set.map(lambda x, y: (Rescaling(1./255)(x), y))"
      ],
      "metadata": {
        "id": "V3nkKs5qENZ1"
      },
      "execution_count": null,
      "outputs": []
    },
    {
      "cell_type": "code",
      "source": [
        "import tensorflow as tf\n",
        "from tensorflow.keras import layers, models\n",
        "from tensorflow.keras.applications import EfficientNetB0\n",
        "from tensorflow.keras.applications.efficientnet import preprocess_input\n",
        "num_classes = 26\n",
        "img_size = 224\n",
        "batch_size = 32"
      ],
      "metadata": {
        "id": "qo5CWY0ZEOHE"
      },
      "execution_count": null,
      "outputs": []
    },
    {
      "cell_type": "code",
      "source": [
        "AUTOTUNE = tf.data.AUTOTUNE\n",
        "training_set = training_set.prefetch(AUTOTUNE)\n",
        "validation_set = validation_set.prefetch(AUTOTUNE)\n",
        "\n",
        "base = EfficientNetB0(include_top=False, weights=\"imagenet\",\n",
        "                      input_shape=(img_size, img_size, 3))\n",
        "base.trainable = False\n",
        "\n",
        "inputs = tf.keras.Input(shape=(img_size, img_size, 3))\n",
        "x = preprocess_input(inputs)\n",
        "x = base(x, training=False)\n",
        "x = layers.GlobalAveragePooling2D()(x)\n",
        "x = layers.Dropout(0.2)(x)\n",
        "outputs = layers.Dense(num_classes, activation=\"softmax\")(x)\n",
        "model = models.Model(inputs, outputs)\n",
        "\n",
        "model.compile(optimizer=tf.keras.optimizers.Adam(1e-3),\n",
        "              loss=\"categorical_crossentropy\", metrics=[\"accuracy\"])\n",
        "model.fit(training_set, validation_data=validation_set, epochs=5)\n",
        "\n",
        "# Fine-tune (unfreeze some top layers)\n",
        "base.trainable = True\n",
        "for layer in base.layers[:-20]:\n",
        "    layer.trainable = False\n",
        "model.compile(optimizer=tf.keras.optimizers.Adam(1e-3),\n",
        "              loss=\"categorical_crossentropy\", metrics=[\"accuracy\"])\n",
        "model.fit(training_set, validation_data=validation_set, epochs=5)\n",
        "\n",
        "# Fine-tune (unfreeze some top layers)\n",
        "base.trainable = True\n",
        "for layer in base.layers[:-20]:\n",
        "    layer.trainable = False\n",
        "model.compile(optimizer=tf.keras.optimizers.Adam(1e-5),\n",
        "              loss=\"categorical_crossentropy\", metrics=[\"accuracy\"])\n",
        "model.fit(training_set, validation_data=validation_set, epochs=5)"
      ],
      "metadata": {
        "id": "BxVHR5lNEQGS",
        "colab": {
          "base_uri": "https://localhost:8080/"
        },
        "outputId": "47130e25-4256-4090-a464-267e3532e9fa"
      },
      "execution_count": null,
      "outputs": [
        {
          "output_type": "stream",
          "name": "stdout",
          "text": [
            "Epoch 1/5\n",
            "\u001b[1m1501/1501\u001b[0m \u001b[32m━━━━━━━━━━━━━━━━━━━━\u001b[0m\u001b[37m\u001b[0m \u001b[1m139s\u001b[0m 74ms/step - accuracy: 0.0361 - loss: 3.3038 - val_accuracy: 0.0414 - val_loss: 3.2796\n",
            "Epoch 2/5\n",
            "\u001b[1m1501/1501\u001b[0m \u001b[32m━━━━━━━━━━━━━━━━━━━━\u001b[0m\u001b[37m\u001b[0m \u001b[1m78s\u001b[0m 52ms/step - accuracy: 0.0397 - loss: 3.3011 - val_accuracy: 0.0419 - val_loss: 3.2924\n",
            "Epoch 3/5\n",
            "\u001b[1m1501/1501\u001b[0m \u001b[32m━━━━━━━━━━━━━━━━━━━━\u001b[0m\u001b[37m\u001b[0m \u001b[1m80s\u001b[0m 51ms/step - accuracy: 0.0415 - loss: 3.3035 - val_accuracy: 0.0414 - val_loss: 3.2794\n",
            "Epoch 4/5\n",
            "\u001b[1m1501/1501\u001b[0m \u001b[32m━━━━━━━━━━━━━━━━━━━━\u001b[0m\u001b[37m\u001b[0m \u001b[1m77s\u001b[0m 52ms/step - accuracy: 0.0411 - loss: 3.2985 - val_accuracy: 0.0414 - val_loss: 3.2875\n",
            "Epoch 5/5\n",
            "\u001b[1m1501/1501\u001b[0m \u001b[32m━━━━━━━━━━━━━━━━━━━━\u001b[0m\u001b[37m\u001b[0m \u001b[1m82s\u001b[0m 55ms/step - accuracy: 0.0410 - loss: 3.2997 - val_accuracy: 0.0414 - val_loss: 3.2863\n",
            "Epoch 1/5\n",
            "\u001b[1m1501/1501\u001b[0m \u001b[32m━━━━━━━━━━━━━━━━━━━━\u001b[0m\u001b[37m\u001b[0m \u001b[1m129s\u001b[0m 68ms/step - accuracy: 0.0477 - loss: 3.2715 - val_accuracy: 0.0738 - val_loss: 3.0965\n",
            "Epoch 2/5\n",
            "\u001b[1m1501/1501\u001b[0m \u001b[32m━━━━━━━━━━━━━━━━━━━━\u001b[0m\u001b[37m\u001b[0m \u001b[1m83s\u001b[0m 55ms/step - accuracy: 0.0999 - loss: 3.0341 - val_accuracy: 0.1628 - val_loss: 2.8058\n",
            "Epoch 3/5\n",
            "\u001b[1m1501/1501\u001b[0m \u001b[32m━━━━━━━━━━━━━━━━━━━━\u001b[0m\u001b[37m\u001b[0m \u001b[1m82s\u001b[0m 55ms/step - accuracy: 0.1505 - loss: 2.8352 - val_accuracy: 0.0658 - val_loss: 4.0553\n",
            "Epoch 4/5\n",
            "\u001b[1m1501/1501\u001b[0m \u001b[32m━━━━━━━━━━━━━━━━━━━━\u001b[0m\u001b[37m\u001b[0m \u001b[1m88s\u001b[0m 59ms/step - accuracy: 0.1938 - loss: 2.6853 - val_accuracy: 0.0760 - val_loss: 8.4809\n",
            "Epoch 5/5\n",
            "\u001b[1m1501/1501\u001b[0m \u001b[32m━━━━━━━━━━━━━━━━━━━━\u001b[0m\u001b[37m\u001b[0m \u001b[1m84s\u001b[0m 56ms/step - accuracy: 0.2356 - loss: 2.5258 - val_accuracy: 0.1056 - val_loss: 4.4310\n",
            "Epoch 1/5\n",
            "\u001b[1m1501/1501\u001b[0m \u001b[32m━━━━━━━━━━━━━━━━━━━━\u001b[0m\u001b[37m\u001b[0m \u001b[1m127s\u001b[0m 68ms/step - accuracy: 0.3131 - loss: 2.2832 - val_accuracy: 0.1616 - val_loss: 3.3870\n",
            "Epoch 2/5\n",
            "\u001b[1m1501/1501\u001b[0m \u001b[32m━━━━━━━━━━━━━━━━━━━━\u001b[0m\u001b[37m\u001b[0m \u001b[1m83s\u001b[0m 55ms/step - accuracy: 0.3351 - loss: 2.2082 - val_accuracy: 0.1747 - val_loss: 3.2105\n",
            "Epoch 3/5\n",
            "\u001b[1m1501/1501\u001b[0m \u001b[32m━━━━━━━━━━━━━━━━━━━━\u001b[0m\u001b[37m\u001b[0m \u001b[1m83s\u001b[0m 55ms/step - accuracy: 0.3411 - loss: 2.1818 - val_accuracy: 0.1797 - val_loss: 3.2285\n",
            "Epoch 4/5\n",
            "\u001b[1m1501/1501\u001b[0m \u001b[32m━━━━━━━━━━━━━━━━━━━━\u001b[0m\u001b[37m\u001b[0m \u001b[1m83s\u001b[0m 55ms/step - accuracy: 0.3436 - loss: 2.1642 - val_accuracy: 0.1691 - val_loss: 3.4167\n",
            "Epoch 5/5\n",
            "\u001b[1m1501/1501\u001b[0m \u001b[32m━━━━━━━━━━━━━━━━━━━━\u001b[0m\u001b[37m\u001b[0m \u001b[1m82s\u001b[0m 55ms/step - accuracy: 0.3483 - loss: 2.1547 - val_accuracy: 0.1762 - val_loss: 3.3468\n"
          ]
        },
        {
          "output_type": "execute_result",
          "data": {
            "text/plain": [
              "<keras.src.callbacks.history.History at 0x78125b316ed0>"
            ]
          },
          "metadata": {},
          "execution_count": 11
        }
      ]
    },
    {
      "cell_type": "code",
      "source": [
        "model.save(\"/content/drive/MyDrive/modelof.keras\")"
      ],
      "metadata": {
        "id": "m1AQsDRzFABU"
      },
      "execution_count": null,
      "outputs": []
    }
  ]
}